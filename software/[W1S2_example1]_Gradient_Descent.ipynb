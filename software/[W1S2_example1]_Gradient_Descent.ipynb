{
 "cells": [
  {
   "cell_type": "code",
   "execution_count": 15,
   "id": "146ca3b7",
   "metadata": {},
   "outputs": [
    {
     "name": "stdout",
     "output_type": "stream",
     "text": [
      "0 -th iteration loss: 27.789561081401\n",
      "100 -th iteration loss: 0.794025207556348\n",
      "200 -th iteration loss: 0.6544591377726082\n",
      "300 -th iteration loss: 0.5400896872057114\n",
      "400 -th iteration loss: 0.4459633566043356\n",
      "500 -th iteration loss: 0.36847668529742444\n",
      "600 -th iteration loss: 0.3046711773723123\n",
      "700 -th iteration loss: 0.2521171906016411\n",
      "800 -th iteration loss: 0.20881892646955966\n",
      "900 -th iteration loss: 0.1731365674988547\n",
      "1000 -th iteration loss: 0.1437224541766668\n",
      "1100 -th iteration loss: 0.11946875915747276\n",
      "1200 -th iteration loss: 0.09946457856782019\n",
      "1300 -th iteration loss: 0.082960738082957\n",
      "1400 -th iteration loss: 0.06934092041565501\n",
      "1500 -th iteration loss: 0.058097973546778967\n",
      "1600 -th iteration loss: 0.04881446572067719\n",
      "1700 -th iteration loss: 0.04114672232634516\n",
      "1800 -th iteration loss: 0.034811718149131296\n",
      "1900 -th iteration loss: 0.029576311712898432\n",
      "2000 -th iteration loss: 0.025248401119001406\n",
      "2100 -th iteration loss: 0.021669656668707966\n",
      "2200 -th iteration loss: 0.018709547688476807\n",
      "2300 -th iteration loss: 0.016260431862981775\n",
      "2400 -th iteration loss: 0.01423351706285224\n",
      "2500 -th iteration loss: 0.012555539803977259\n",
      "2600 -th iteration loss: 0.01116603245954371\n",
      "2700 -th iteration loss: 0.010015074282518644\n",
      "2800 -th iteration loss: 0.00906144009941102\n",
      "2900 -th iteration loss: 0.008271075953966724\n",
      "Result: y = 0.06677063894609886 + 0.8085348932278028 x + -0.011519046286429956 x^2 + -0.0864735124561125 x^3\n"
     ]
    },
    {
     "data": {
      "text/plain": [
       "<matplotlib.legend.Legend at 0x7fe8a8571a90>"
      ]
     },
     "execution_count": 15,
     "metadata": {},
     "output_type": "execute_result"
    },
    {
     "data": {
      "image/png": "[encoded data removed]",
      "text/plain": [
       "<Figure size 432x288 with 1 Axes>"
      ]
     },
     "metadata": {
      "needs_background": "light"
     },
     "output_type": "display_data"
    }
   ],
   "source": [
    "import numpy as np  ## numpy is general purpose array processing package\n",
    "import math\n",
    "import matplotlib.pyplot as plt\n",
    "\n",
    "# Create random input and output data\n",
    "x = np.linspace(-math.pi, math.pi, 2000)\n",
    "y = np.sin(x)\n",
    "\n",
    "# Randomly initialize weights: these will be trained\n",
    "a = np.random.randn()\n",
    "b = np.random.randn()\n",
    "c = np.random.randn()\n",
    "d = np.random.randn()\n",
    "\n",
    "learning_rate = 1e-3\n",
    "learning_epoch = 3000\n",
    "\n",
    "for t in range(learning_epoch):\n",
    "    # Forward pass: compute predicted y\n",
    "    # y = a + b x + c x^2 + d x^3\n",
    "    y_pred = a + b * x + c * x ** 2 + d * x ** 3\n",
    "\n",
    "    # Compute and print loss\n",
    "    loss = np.square(y_pred - y).sum()/len(y) # Mean Square Error\n",
    "    if t % 100 == 0:\n",
    "        print(t,'-th iteration loss:', loss)\n",
    "\n",
    "    # Backprop to compute gradients of a, b, c, d with respect to loss\n",
    "    grad_y_pred = 2.0 * (y_pred - y)/len(y)\n",
    "    grad_a = grad_y_pred.sum()\n",
    "    grad_b = (grad_y_pred * x).sum()\n",
    "    grad_c = (grad_y_pred * x ** 2).sum()\n",
    "    grad_d = (grad_y_pred * x ** 3).sum()\n",
    "\n",
    "    # Update weights\n",
    "    a -= learning_rate * grad_a\n",
    "    b -= learning_rate * grad_b\n",
    "    c -= learning_rate * grad_c\n",
    "    d -= learning_rate * grad_d\n",
    "\n",
    "print(f'Result: y = {a} + {b} x + {c} x^2 + {d} x^3')  ## f' allows to embed any variable inside the string.\n",
    "\n",
    "plt.plot(x, y,      label = \"Answer\")\n",
    "plt.plot(x, y_pred, label = \"Predicted\")\n",
    "# show a legend on the plot\n",
    "plt.legend()"
   ]
  },
  {
   "cell_type": "code",
   "execution_count": null,
   "id": "functional-booking",
   "metadata": {},
   "outputs": [],
   "source": []
  },
  {
   "cell_type": "code",
   "execution_count": null,
   "id": "fleet-packet",
   "metadata": {},
   "outputs": [],
   "source": []
  },
  {
   "cell_type": "code",
   "execution_count": null,
   "id": "prostate-survivor",
   "metadata": {},
   "outputs": [],
   "source": []
  },
  {
   "cell_type": "code",
   "execution_count": null,
   "id": "anticipated-light",
   "metadata": {},
   "outputs": [],
   "source": []
  }
 ],
 "metadata": {
  "kernelspec": {
   "display_name": "Python 3 (ipykernel)",
   "language": "python",
   "name": "python3"
  },
  "language_info": {
   "codemirror_mode": {
    "name": "ipython",
    "version": 3
   },
   "file_extension": ".py",
   "mimetype": "text/x-python",
   "name": "python",
   "nbconvert_exporter": "python",
   "pygments_lexer": "ipython3",
   "version": "3.9.5"
  }
 },
 "nbformat": 4,
 "nbformat_minor": 5
}

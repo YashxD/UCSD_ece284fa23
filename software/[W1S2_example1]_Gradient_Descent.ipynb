{
 "cells": [
  {
   "cell_type": "code",
   "execution_count": 5,
   "id": "8d101e83",
   "metadata": {},
   "outputs": [
    {
     "name": "stdout",
     "output_type": "stream",
     "text": [
      "0 -th iteration loss: 118.6279232184726\n",
      "100 -th iteration loss: 2.4203976346716325\n",
      "200 -th iteration loss: 1.9719902023140758\n",
      "300 -th iteration loss: 1.611788663297661\n",
      "400 -th iteration loss: 1.3177058406934639\n",
      "500 -th iteration loss: 1.07757515997134\n",
      "600 -th iteration loss: 0.8814747400517631\n",
      "700 -th iteration loss: 0.7213112062605189\n",
      "800 -th iteration loss: 0.5904820923705615\n",
      "900 -th iteration loss: 0.4836006738351684\n",
      "1000 -th iteration loss: 0.39627167055393614\n",
      "1100 -th iteration loss: 0.32490840155116124\n",
      "1200 -th iteration loss: 0.26658371961666194\n",
      "1300 -th iteration loss: 0.2189084757024748\n",
      "1400 -th iteration loss: 0.17993242084853653\n",
      "1500 -th iteration loss: 0.1480633966066334\n",
      "1600 -th iteration loss: 0.12200143322192486\n",
      "1700 -th iteration loss: 0.10068500068253373\n",
      "1800 -th iteration loss: 0.08324716759535103\n",
      "1900 -th iteration loss: 0.06897983821506773\n",
      "2000 -th iteration loss: 0.05730457637060135\n",
      "2100 -th iteration loss: 0.04774880077099502\n",
      "2200 -th iteration loss: 0.03992636085423921\n",
      "2300 -th iteration loss: 0.033521685432592506\n",
      "2400 -th iteration loss: 0.02827684559555065\n",
      "2500 -th iteration loss: 0.02398099493503333\n",
      "2600 -th iteration loss: 0.02046174927033385\n",
      "2700 -th iteration loss: 0.01757814883820704\n",
      "2800 -th iteration loss: 0.015214911769116176\n",
      "2900 -th iteration loss: 0.013277741358095075\n",
      "Result: y = -0.0677384550290682 + 0.7570179535719088 x + 0.011686010665271314 x^2 + -0.07914567640351905 x^3\n"
     ]
    },
    {
     "data": {
      "text/plain": [
       "<matplotlib.legend.Legend at 0x7f2e872aa190>"
      ]
     },
     "execution_count": 5,
     "metadata": {},
     "output_type": "execute_result"
    },
    {
     "data": {
      "image/png": "[encoded data removed]",
      "text/plain": [
       "<Figure size 432x288 with 1 Axes>"
      ]
     },
     "metadata": {
      "needs_background": "light"
     },
     "output_type": "display_data"
    }
   ],
   "source": [
    "import numpy as np  ## numpy is general purpose array processing package\n",
    "import math\n",
    "import matplotlib.pyplot as plt\n",
    "\n",
    "# Create random input and output data\n",
    "x = np.linspace(-math.pi, math.pi, 2000)\n",
    "y = np.sin(x)\n",
    "\n",
    "# Randomly initialize weights: these will be trained\n",
    "a = np.random.randn()\n",
    "b = np.random.randn()\n",
    "c = np.random.randn()\n",
    "d = np.random.randn()\n",
    "\n",
    "learning_rate = 1e-3\n",
    "learning_epoch = 3000\n",
    "\n",
    "for t in range(learning_epoch):\n",
    "    # Forward pass: compute predicted y\n",
    "    # y = a + b x + c x^2 + d x^3\n",
    "    y_pred = a + b * x + c * x ** 2 + d * x ** 3\n",
    "\n",
    "    # Compute and print loss\n",
    "    loss = np.square(y_pred - y).sum()/len(y) # Mean Square Error\n",
    "    if t % 100 == 0:\n",
    "        print(t,'-th iteration loss:', loss)\n",
    "\n",
    "    # Backprop to compute gradients of a, b, c, d with respect to loss\n",
    "    grad_y_pred = 2.0 * (y_pred - y)/len(y)\n",
    "    grad_a = grad_y_pred.sum()\n",
    "    grad_b = (grad_y_pred * x).sum()\n",
    "    grad_c = (grad_y_pred * x ** 2).sum()\n",
    "    grad_d = (grad_y_pred * x ** 3).sum()\n",
    "\n",
    "    # Update weights\n",
    "    a -= learning_rate * grad_a\n",
    "    b -= learning_rate * grad_b\n",
    "    c -= learning_rate * grad_c\n",
    "    d -= learning_rate * grad_d\n",
    "\n",
    "print(f'Result: y = {a} + {b} x + {c} x^2 + {d} x^3')  ## f' allows to embed any variable inside the string.\n",
    "\n",
    "plt.plot(x, y,      label = \"Answer\")\n",
    "plt.plot(x, y_pred, label = \"Predicted\")\n",
    "# show a legend on the plot\n",
    "plt.legend()"
   ]
  },
  {
   "cell_type": "code",
   "execution_count": null,
   "id": "functional-booking",
   "metadata": {},
   "outputs": [],
   "source": []
  },
  {
   "cell_type": "code",
   "execution_count": null,
   "id": "fleet-packet",
   "metadata": {},
   "outputs": [],
   "source": []
  },
  {
   "cell_type": "code",
   "execution_count": null,
   "id": "prostate-survivor",
   "metadata": {},
   "outputs": [],
   "source": []
  },
  {
   "cell_type": "code",
   "execution_count": null,
   "id": "anticipated-light",
   "metadata": {},
   "outputs": [],
   "source": []
  }
 ],
 "metadata": {
  "kernelspec": {
   "display_name": "Python 3 (ipykernel)",
   "language": "python",
   "name": "python3"
  },
  "language_info": {
   "codemirror_mode": {
    "name": "ipython",
    "version": 3
   },
   "file_extension": ".py",
   "mimetype": "text/x-python",
   "name": "python",
   "nbconvert_exporter": "python",
   "pygments_lexer": "ipython3",
   "version": "3.9.5"
  }
 },
 "nbformat": 4,
 "nbformat_minor": 5
}

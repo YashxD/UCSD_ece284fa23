{
 "cells": [
  {
   "cell_type": "code",
   "execution_count": null,
   "id": "apparent-wallet",
   "metadata": {},
   "outputs": [],
   "source": [
    "import torch\n",
    "import numpy as np\n",
    "import torch.nn as nn\n",
    "\n",
    "embed_size = 4 # each word is represented with length 4 vector\n",
    "my_embedding = nn.Embedding(10, embed_size) # 10 words are supported. each word is mapped on either number 0 - 9\n",
    "\n",
    "input = torch.IntTensor([[1,2,4,5,5,5],\n",
    "                         [4,3,0,9,9,9]]) # two sentences with sequence length of 6\n",
    "                                                        # elements shoudl be integer\n",
    "embedded_input = my_embedding(input)\n",
    "print(embedded_input.size())\n",
    "print(\"embedding for 4th token in the 1st sentence is:\", embedded_input[0, 3, :])\n",
    "print(\"embedding for 5th token in the 1st sentence is:\", embedded_input[0, 4, :])"
   ]
  },
  {
   "cell_type": "code",
   "execution_count": null,
   "id": "beautiful-league",
   "metadata": {},
   "outputs": [],
   "source": [
    "input = torch.LongTensor([[1,2,4,5,6,7],\n",
    "                         [4,3,0,9,10,11]]) # does not work as we cover up to 10\n",
    "embedded_input = my_embedding(input)"
   ]
  },
  {
   "cell_type": "code",
   "execution_count": null,
   "id": "accepted-assist",
   "metadata": {},
   "outputs": [],
   "source": [
    "from torch.autograd import Variable\n",
    "\n",
    "class PositionalEncoding(nn.Module):\n",
    "    \"Implement the PE function.\"\n",
    "    def __init__(self, d_model, dropout, max_len=5000):\n",
    "        super(PositionalEncoding, self).__init__()\n",
    "        self.dropout = nn.Dropout(p=dropout)\n",
    "        \n",
    "        # Compute the positional encodings once in log space.\n",
    "        pe = torch.zeros(max_len, d_model)   # d_model: vector length of input \n",
    "        position = torch.arange(0, max_len).unsqueeze(1) # arrange: return 1D tensor from a to b-1\n",
    "        #print(position.size())  # torch.Size([5000, 1])\n",
    "        div_term = torch.exp(torch.arange(0, d_model, 2) * -(math.log(10000.0) / d_model))\n",
    "        #print(div_term)\n",
    "        pe[:, 0::2] = torch.sin(position * div_term) # ::2 means every other\n",
    "        pe[:, 1::2] = torch.cos(position * div_term)\n",
    "        #print(pe.size())      # torch.Size([5000, 4])\n",
    "        pe = pe.unsqueeze(0)  \n",
    "        #print(pe.size())      # torch.Size([1, 5000, 4]) <- the first dim will be # of sentences in input\n",
    "        self.register_buffer('pe', pe)\n",
    "        \n",
    "    def forward(self, x):\n",
    "        x = x + Variable(self.pe[:, :x.size(1)], requires_grad=False)\n",
    "        return self.dropout(x)"
   ]
  },
  {
   "cell_type": "code",
   "execution_count": null,
   "id": "white-rwanda",
   "metadata": {},
   "outputs": [],
   "source": [
    "import math\n",
    "      \n",
    "pe = PositionalEncoding(embed_size, 0)  # d_model: vector length of input (12 based on previous cells)\n",
    "#pe_pure = pe.forward(Variable(torch.zeros(batch_size,10, embed_size))) # send zero vector to see the pure positional encoding part\n",
    "embedded_input_w_pe = pe.forward(embedded_input)"
   ]
  },
  {
   "cell_type": "code",
   "execution_count": null,
   "id": "scenic-surfing",
   "metadata": {},
   "outputs": [],
   "source": [
    "print(embedded_input)\n",
    "print(embedded_input_w_pe)"
   ]
  },
  {
   "cell_type": "code",
   "execution_count": null,
   "id": "straight-grove",
   "metadata": {},
   "outputs": [],
   "source": [
    "q[3,:]"
   ]
  },
  {
   "cell_type": "code",
   "execution_count": null,
   "id": "prescription-tobacco",
   "metadata": {},
   "outputs": [],
   "source": []
  },
  {
   "cell_type": "code",
   "execution_count": null,
   "id": "thirty-mainstream",
   "metadata": {},
   "outputs": [],
   "source": []
  },
  {
   "cell_type": "code",
   "execution_count": null,
   "id": "prerequisite-crazy",
   "metadata": {},
   "outputs": [],
   "source": []
  },
  {
   "cell_type": "code",
   "execution_count": null,
   "id": "brazilian-alias",
   "metadata": {},
   "outputs": [],
   "source": []
  },
  {
   "cell_type": "code",
   "execution_count": null,
   "id": "dirty-suicide",
   "metadata": {},
   "outputs": [],
   "source": []
  },
  {
   "cell_type": "code",
   "execution_count": null,
   "id": "general-toilet",
   "metadata": {},
   "outputs": [],
   "source": []
  },
  {
   "cell_type": "code",
   "execution_count": null,
   "id": "disabled-cleanup",
   "metadata": {},
   "outputs": [],
   "source": []
  },
  {
   "cell_type": "code",
   "execution_count": null,
   "id": "cosmetic-finger",
   "metadata": {},
   "outputs": [],
   "source": []
  },
  {
   "cell_type": "code",
   "execution_count": null,
   "id": "human-produce",
   "metadata": {},
   "outputs": [],
   "source": []
  },
  {
   "cell_type": "code",
   "execution_count": null,
   "id": "viral-custody",
   "metadata": {},
   "outputs": [],
   "source": []
  }
 ],
 "metadata": {
  "kernelspec": {
   "display_name": "Python 3 (ipykernel)",
   "language": "python",
   "name": "python3"
  },
  "language_info": {
   "codemirror_mode": {
    "name": "ipython",
    "version": 3
   },
   "file_extension": ".py",
   "mimetype": "text/x-python",
   "name": "python",
   "nbconvert_exporter": "python",
   "pygments_lexer": "ipython3",
   "version": "3.8.3"
  }
 },
 "nbformat": 4,
 "nbformat_minor": 5
}

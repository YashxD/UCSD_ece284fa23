{
 "cells": [
  {
   "cell_type": "code",
   "execution_count": 25,
   "id": "miniature-siemens",
   "metadata": {},
   "outputs": [
    {
     "name": "stdout",
     "output_type": "stream",
     "text": [
      "Net(\n",
      "  (fc1): Linear(in_features=2, out_features=1, bias=False)\n",
      ")\n",
      "[Parameter containing:\n",
      "tensor([[ 1., -1.]], requires_grad=True)]\n",
      "Epoch 0 - loss: 312.0310363769531\n",
      "Epoch 10 - loss: 5.688826560974121\n",
      "Epoch 20 - loss: 5.6921844482421875\n",
      "Epoch 30 - loss: 5.6921844482421875\n",
      "Epoch 40 - loss: 5.6921844482421875\n",
      "Epoch 50 - loss: 5.6921844482421875\n",
      "Epoch 60 - loss: 5.6921844482421875\n",
      "Epoch 70 - loss: 5.6921844482421875\n",
      "Epoch 80 - loss: 5.6921844482421875\n",
      "Epoch 90 - loss: 5.6921844482421875\n",
      "Epoch 100 - loss: 5.6921844482421875\n",
      "Epoch 110 - loss: 5.6921844482421875\n",
      "Epoch 120 - loss: 5.6921844482421875\n",
      "Epoch 130 - loss: 5.6921844482421875\n",
      "Epoch 140 - loss: 5.6921844482421875\n",
      "Epoch 150 - loss: 5.6921844482421875\n",
      "Epoch 160 - loss: 5.6921844482421875\n",
      "Epoch 170 - loss: 5.6921844482421875\n",
      "Epoch 180 - loss: 5.6921844482421875\n",
      "Epoch 190 - loss: 5.6921844482421875\n",
      "Epoch 200 - loss: 5.6921844482421875\n",
      "Epoch 210 - loss: 5.6921844482421875\n",
      "Epoch 220 - loss: 5.6921844482421875\n",
      "Epoch 230 - loss: 5.6921844482421875\n",
      "Epoch 240 - loss: 5.6921844482421875\n",
      "Epoch 250 - loss: 5.6921844482421875\n",
      "Epoch 260 - loss: 5.6921844482421875\n",
      "Epoch 270 - loss: 5.6921844482421875\n",
      "Epoch 280 - loss: 5.6921844482421875\n",
      "Epoch 290 - loss: 5.6921844482421875\n",
      "when x = tensor([1., 3.]), y = tensor([3.6349], grad_fn=<SqueezeBackward4>)\n",
      "when x = tensor([2., 6.]), y = tensor([7.2698], grad_fn=<SqueezeBackward4>)\n",
      "when x = tensor([3., 9.]), y = tensor([10.9047], grad_fn=<SqueezeBackward4>)\n"
     ]
    },
    {
     "data": {
      "text/plain": [
       "[<matplotlib.lines.Line2D at 0x7f4d66bf38b0>]"
      ]
     },
     "execution_count": 25,
     "metadata": {},
     "output_type": "execute_result"
    },
    {
     "data": {
      "image/png": "[encoded data removed]",
      "text/plain": [
       "<Figure size 432x288 with 1 Axes>"
      ]
     },
     "metadata": {
      "needs_background": "light"
     },
     "output_type": "display_data"
    }
   ],
   "source": [
    "import torch\n",
    "from torch.autograd import Variable\n",
    "import torch.nn as nn\n",
    "import torch.nn.functional as F\n",
    "\n",
    "import torch.optim as optim\n",
    "import matplotlib.pyplot as plt\n",
    "\n",
    "class Net(nn.Module):\n",
    "    def __init__(self):\n",
    "        super(Net, self).__init__()\n",
    "        self.fc1 = nn.Linear(2,1,bias=False)\n",
    "    def forward(self, x):\n",
    "        x = self.fc1(x)\n",
    "        return x\n",
    "\n",
    "net = Net()\n",
    "print(net)\n",
    "\n",
    "\n",
    "net.fc1.weight = torch.nn.Parameter(torch.tensor([[1., -1.]], requires_grad=True))\n",
    "\n",
    "print(list(net.parameters()))\n",
    "\n",
    "#input = torch.randn(1,2)\n",
    "#out = net(input)\n",
    "\n",
    "\n",
    "criterion = nn.MSELoss()\n",
    "#def criterion(out, label):\n",
    "#    return ((label - out)**2).mean()\n",
    "\n",
    "\n",
    "optimizer = optim.SGD(net.parameters(), lr=0.001, momentum=0.5)\n",
    "#optimizer = optim.Adam(net.parameters(), lr=0.005)\n",
    "\n",
    "\n",
    "data = torch.tensor([[1.,3.], [2.,6.], [3.,9.]], dtype=torch.float)\n",
    "target = torch.tensor([[1.],[5.],[13.]], dtype=torch.float)\n",
    "\n",
    "hist = []\n",
    "\n",
    "############## Batch GD based update ##############       \n",
    "      \n",
    "for epoch in range(300):\n",
    "    for i in range(len(data)):\n",
    "        optimizer.zero_grad()\n",
    "        outputs = net(data[i])\n",
    "        #print(data[i],target[i])\n",
    "        loss = criterion(outputs, target[i])\n",
    "        loss.backward()\n",
    "        #hist.append(loss.detach())\n",
    "        optimizer.step()\n",
    "    hist.append(loss.detach())\n",
    "    if epoch % 10 == 0:\n",
    "        print(\"Epoch {} - loss: {}\".format(epoch, loss))\n",
    "####################################################\n",
    "\n",
    "### Test the trained network ###\n",
    "for i, current_data in enumerate(data):\n",
    "    out = net(current_data)  \n",
    "    print(\"when x = {}, y = {}\".format(current_data, out))\n",
    "    \n",
    "plt.plot(hist, label = \"training curve\")"
   ]
  }
 ],
 "metadata": {
  "kernelspec": {
   "display_name": "Python 3 (ipykernel)",
   "language": "python",
   "name": "python3"
  },
  "language_info": {
   "codemirror_mode": {
    "name": "ipython",
    "version": 3
   },
   "file_extension": ".py",
   "mimetype": "text/x-python",
   "name": "python",
   "nbconvert_exporter": "python",
   "pygments_lexer": "ipython3",
   "version": "3.9.5"
  }
 },
 "nbformat": 4,
 "nbformat_minor": 5
}

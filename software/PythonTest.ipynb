{
 "cells": [
  {
   "cell_type": "code",
   "execution_count": 32,
   "id": "45c57d96",
   "metadata": {},
   "outputs": [
    {
     "name": "stdout",
     "output_type": "stream",
     "text": [
      "tensor([[[1., 1.],\n",
      "         [1., 1.]],\n",
      "\n",
      "        [[1., 1.],\n",
      "         [1., 1.]]])\n",
      "torch.float32\n",
      "tensor([[[0.8110, 0.3755],\n",
      "         [0.1348, 0.2217]],\n",
      "\n",
      "        [[0.8926, 0.4082],\n",
      "         [0.1201, 0.1543]]], dtype=torch.float16)\n",
      "torch.float16\n",
      "tensor([1.5000, 2.5000, 3.0000])\n",
      "[1. 1.]\n",
      "tensor([1., 1.], dtype=torch.float64)\n",
      "[1.5 2.5 3. ]\n",
      "torch.Size([2, 2, 2])\n"
     ]
    }
   ],
   "source": [
    "import torch\n",
    "import numpy as np\n",
    "\n",
    "# How to create a tensor\n",
    "#Method 1\n",
    "x = torch.ones(2,2,2)\n",
    "print(x)\n",
    "print(x.dtype)    #Datatype\n",
    "#Method 1.2 (Adding datatype qualification)\n",
    "y = torch.rand(2,2,2, dtype=torch.float16) #Specify datatype while initializing the tensor\n",
    "print(y)\n",
    "print(y.dtype)\n",
    "#Method 2 (From a list)\n",
    "z = torch.tensor([1.5, 2.5, 3.0])\n",
    "print(z)\n",
    "#Method 3 (From a numpy array)\n",
    "a = np.ones(2)\n",
    "print(a)\n",
    "b = torch.from_numpy(a) #can specify dtype here, as done previously\n",
    "print(b)\n",
    "\n",
    "# Torch tensor -> Numpy\n",
    "z = z.numpy()\n",
    "print(z)\n",
    "\n",
    "#NOTE: if a torch tensor is converted to a numpy array, or vice versa, AND they exist on the same processor (CPU or GPU),\n",
    "#they would be sharing the same memory space and modifying one would modify the value in other as well.\n",
    "\n",
    "#Size of tensor\n",
    "print(x.size())"
   ]
  },
  {
   "cell_type": "code",
   "execution_count": 19,
   "id": "d5e79368",
   "metadata": {},
   "outputs": [
    {
     "name": "stdout",
     "output_type": "stream",
     "text": [
      "tensor([[[1.9966, 1.6294],\n",
      "         [1.5669, 1.7505]],\n",
      "\n",
      "        [[1.6104, 1.0918],\n",
      "         [1.7817, 1.9980]]])\n",
      "tensor([[[1.9966, 1.6294],\n",
      "         [1.5669, 1.7505]],\n",
      "\n",
      "        [[1.6104, 1.0918],\n",
      "         [1.7817, 1.9980]]])\n",
      "tensor([[[1.9966, 1.6294],\n",
      "         [1.5669, 1.7505]],\n",
      "\n",
      "        [[1.6104, 1.0918],\n",
      "         [1.7817, 1.9980]]])\n",
      "tensor([[[2.9966, 2.6294],\n",
      "         [2.5669, 2.7505]],\n",
      "\n",
      "        [[2.6104, 2.0918],\n",
      "         [2.7817, 2.9980]]])\n",
      "tensor([[[0.0034, 0.3706],\n",
      "         [0.4331, 0.2495]],\n",
      "\n",
      "        [[0.3896, 0.9082],\n",
      "         [0.2183, 0.0020]]])\n",
      "tensor([[[0.0034, 0.3706],\n",
      "         [0.4331, 0.2495]],\n",
      "\n",
      "        [[0.3896, 0.9082],\n",
      "         [0.2183, 0.0020]]])\n",
      "tensor([[[0.0034, 0.3706],\n",
      "         [0.4331, 0.2495]],\n",
      "\n",
      "        [[0.3896, 0.9082],\n",
      "         [0.2183, 0.0020]]])\n",
      "tensor([[[-0.9966, -0.6294],\n",
      "         [-0.5669, -0.7505]],\n",
      "\n",
      "        [[-0.6104, -0.0918],\n",
      "         [-0.7817, -0.9980]]])\n"
     ]
    }
   ],
   "source": [
    "# Operations on Tensors\n",
    "\n",
    "#Addition\n",
    "z = x + y\n",
    "print(z)\n",
    "z = torch.add(x,y)\n",
    "print(z)\n",
    "\n",
    "#In-Place addition\n",
    "t = y\n",
    "t = x + t\n",
    "print(t)\n",
    "t.add_(x) #Using inbuild fxn. All fxn with a trailing _ in the name mean that the fxn performs an in-place operation (on the same var)\n",
    "print(t)\n",
    "\n",
    "#Subtraction\n",
    "z = x - y\n",
    "print(z)\n",
    "z = torch.sub(x,y)\n",
    "print(z)\n",
    "\n",
    "#In-Place subtraction\n",
    "t = y\n",
    "t = x - t\n",
    "print(t)\n",
    "t.sub_(x) #Using inbuild fxn. All fxn with a trailing _ in the name mean that the fxn performs an in-place operation (on the same var)\n",
    "print(t)\n",
    "\n",
    "\n",
    "#Multiplication\n",
    "# Use * and mul\n",
    "#Division\n",
    "# Use / and div"
   ]
  },
  {
   "cell_type": "code",
   "execution_count": 25,
   "id": "52ac94bc",
   "metadata": {},
   "outputs": [
    {
     "name": "stdout",
     "output_type": "stream",
     "text": [
      "tensor([[0.3401, 0.0841, 0.6951],\n",
      "        [0.2099, 0.3620, 0.0337],\n",
      "        [0.2394, 0.2931, 0.0833],\n",
      "        [0.1366, 0.1106, 0.3499],\n",
      "        [0.6755, 0.3895, 0.0974]])\n",
      "tensor([0.6951, 0.0337, 0.0833, 0.3499, 0.0974])\n",
      "tensor([0.2099, 0.3620, 0.0337])\n",
      "0.3619650602340698\n",
      "tensor([0.6768, 0.9084, 0.8926, 0.0063, 0.3548, 0.0606, 0.2891, 0.9227, 0.2373,\n",
      "        0.0882, 0.1863, 0.0218, 0.2893, 0.1641, 0.0835, 0.8412])\n",
      "tensor([[0.6768, 0.9084, 0.8926, 0.0063, 0.3548, 0.0606, 0.2891, 0.9227],\n",
      "        [0.2373, 0.0882, 0.1863, 0.0218, 0.2893, 0.1641, 0.0835, 0.8412]])\n",
      "tensor([[0.6768, 0.9084, 0.8926, 0.0063, 0.3548, 0.0606, 0.2891, 0.9227],\n",
      "        [0.2373, 0.0882, 0.1863, 0.0218, 0.2893, 0.1641, 0.0835, 0.8412]])\n"
     ]
    }
   ],
   "source": [
    "# Slicing a tensor (Taking out a particular row or column, or range thereof)\n",
    "x = torch.rand(5,3)\n",
    "print(x)\n",
    "print(x[:,2])\n",
    "print(x[1,:])\n",
    "print(x[1,1].item()) #Gets the actual value of the tensor element\n",
    "\n",
    "# Reshaping a tensor\n",
    "x = torch.rand(4,4)\n",
    "y = x.view(16) #Number of elements must remain same (4*4)\n",
    "print(y)\n",
    "y = x.view(2,8)\n",
    "print(y)\n",
    "print(x.view(-1,8)) #-1 means pytorch should get this value based on the other params"
   ]
  },
  {
   "cell_type": "code",
   "execution_count": null,
   "id": "66ea98d5",
   "metadata": {},
   "outputs": [],
   "source": []
  }
 ],
 "metadata": {
  "kernelspec": {
   "display_name": "Python 3 (clean)",
   "language": "python",
   "name": "python3_clean"
  },
  "language_info": {
   "codemirror_mode": {
    "name": "ipython",
    "version": 3
   },
   "file_extension": ".py",
   "mimetype": "text/x-python",
   "name": "python",
   "nbconvert_exporter": "python",
   "pygments_lexer": "ipython3",
   "version": "3.9.5"
  }
 },
 "nbformat": 4,
 "nbformat_minor": 5
}
